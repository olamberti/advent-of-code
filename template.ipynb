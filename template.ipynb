{
 "cells": [
  {
   "cell_type": "markdown",
   "metadata": {},
   "source": [
    "## Input loading\n",
    "Load line by line:"
   ]
  },
  {
   "cell_type": "code",
   "execution_count": null,
   "metadata": {},
   "outputs": [],
   "source": [
    "for line in open('dxx.txt').read().splitlines():\n",
    "    pass"
   ]
  },
  {
   "cell_type": "markdown",
   "metadata": {},
   "source": [
    "Load as a single string:"
   ]
  },
  {
   "cell_type": "code",
   "execution_count": null,
   "metadata": {},
   "outputs": [],
   "source": [
    "\n",
    "input = open('dxx.txt').read()"
   ]
  },
  {
   "cell_type": "markdown",
   "metadata": {},
   "source": [
    "Load grid type inputs:"
   ]
  },
  {
   "cell_type": "code",
   "execution_count": null,
   "metadata": {},
   "outputs": [],
   "source": [
    "# Read input\n",
    "walls, paths = set(), set()\n",
    "dirs = [1, 1j, -1, -1j]\n",
    "\n",
    "for y, line in enumerate(open('d18.txt').readlines()):\n",
    "    for x, e in enumerate(line.strip()):\n",
    "        if e == '#': walls.add(x + y*1j)\n",
    "        elif e == '.': paths.add(x + y*1j)"
   ]
  },
  {
   "cell_type": "markdown",
   "metadata": {},
   "source": [
    "## Regex expressions\n",
    "Always import library!\n",
    "Regex to get all numbers from a string as list:"
   ]
  },
  {
   "cell_type": "code",
   "execution_count": null,
   "metadata": {},
   "outputs": [],
   "source": [
    "import re\n",
    "\n",
    "\n",
    "ns = [int(x) for x in re.findall(r'(-?\\d+)', s)]"
   ]
  },
  {
   "cell_type": "markdown",
   "metadata": {},
   "source": [
    "## Hashlib\n",
    "Enocoding string:"
   ]
  },
  {
   "cell_type": "code",
   "execution_count": null,
   "metadata": {},
   "outputs": [],
   "source": [
    "import hashlib\n",
    "\n",
    "h =  hashlib.md5((s).encode(\"utf-8\")).hexdigest()"
   ]
  },
  {
   "cell_type": "markdown",
   "metadata": {},
   "source": [
    "## Game of Life\n",
    "Convolutional method:"
   ]
  },
  {
   "cell_type": "code",
   "execution_count": null,
   "metadata": {},
   "outputs": [],
   "source": [
    "import numpy as np\n",
    "from scipy.ndimage import convolve\n",
    "from copy import deepcopy as dp\n",
    "\n",
    "# Kernel for convolution\n",
    "kernel = np.ones((3,3), dtype=np.uint8)\n",
    "kernel[1,1] = 0\n",
    "\n",
    "# Generating next state\n",
    "def anim(grid):\n",
    "    conv = convolve(grid, kernel, mode='constant', cval= 0)\n",
    "    # Cell lives and has 2 or 3 living neighbors or cell dead and has exactly 3 living neighbors\n",
    "    return (((grid == 1) & ((conv == 2) | (conv == 3))) | ((grid == 0) & (conv == 3))).astype(np.uint8)"
   ]
  },
  {
   "cell_type": "markdown",
   "metadata": {},
   "source": [
    "## Path finding\n",
    "\n",
    "Simple BFS:"
   ]
  },
  {
   "cell_type": "code",
   "execution_count": null,
   "metadata": {},
   "outputs": [],
   "source": [
    "# Define neighbours of a cell here\n",
    "def get_neighbors(cell):\n",
    "    pass\n",
    "\n",
    "front, seen, steps = set(), set(), 0\n",
    "front.add(start)\n",
    "\n",
    "while front():\n",
    "    steps += 1\n",
    "    new_front = set()\n",
    "    for cell in front:\n",
    "        for new_cell in get_neighbors(cell):\n",
    "            if new_cell in seen: continue\n",
    "            seen.add(new_cell)\n",
    "            new_front.add(new_cell)\n",
    "    front = new_front"
   ]
  },
  {
   "cell_type": "markdown",
   "metadata": {},
   "source": [
    "## Queues\n",
    "Priority queue with heapqueue:"
   ]
  },
  {
   "cell_type": "code",
   "execution_count": null,
   "metadata": {},
   "outputs": [],
   "source": [
    "import heapq\n",
    "\n",
    "stack, cache = [(prio, data)], set()\n",
    "heapq.heapify(stack)\n",
    "\n",
    "while True:\n",
    "    current_prio, current_data = heapq.heappop(stack)\n",
    "    if (current_prio, current_data) in cache: continue\n",
    "    if current_data == goal:\n",
    "        break\n",
    "    for new_prio, new_data in next_state(current_prio, current_data):\n",
    "        heapq.heappush(stack, (new_prio, new_data))\n",
    "        cache.add((new_prio, new_data))"
   ]
  },
  {
   "cell_type": "markdown",
   "metadata": {},
   "source": [
    "Dequeue for handling lists where we only add / pop on left or right ends:"
   ]
  },
  {
   "cell_type": "code",
   "execution_count": null,
   "metadata": {},
   "outputs": [],
   "source": [
    "from collections import deque as dq\n",
    "\n",
    "dq_list = dq(my_list)\n",
    "dq_list.append(new_elem)\n",
    "popped_first = dq_list.popleft()"
   ]
  },
  {
   "cell_type": "markdown",
   "metadata": {},
   "source": [
    "## Chained list\n",
    "Link class:"
   ]
  },
  {
   "cell_type": "code",
   "execution_count": null,
   "metadata": {},
   "outputs": [],
   "source": [
    "class Link:\n",
    "  def __init__(self, value):\n",
    "    self.value = value\n",
    "    self.right = None\n",
    "    self.left = None"
   ]
  }
 ],
 "metadata": {
  "kernelspec": {
   "display_name": "base",
   "language": "python",
   "name": "python3"
  },
  "language_info": {
   "codemirror_mode": {
    "name": "ipython",
    "version": 3
   },
   "file_extension": ".py",
   "mimetype": "text/x-python",
   "name": "python",
   "nbconvert_exporter": "python",
   "pygments_lexer": "ipython3",
   "version": "3.11.4"
  }
 },
 "nbformat": 4,
 "nbformat_minor": 2
}
